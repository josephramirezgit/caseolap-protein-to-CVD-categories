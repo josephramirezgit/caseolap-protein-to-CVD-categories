{
 "cells": [
  {
   "cell_type": "code",
   "execution_count": 34,
   "metadata": {},
   "outputs": [],
   "source": [
    "# Load in neo4j requirements and admin privileges\n",
    "from neo4j import GraphDatabase\n",
    "\n",
    "url = \"bolt://localhost:7687\"\n",
    "\n",
    "# Enter your own password for the second auth argument\n",
    "driver = GraphDatabase.driver(url, auth=(\"neo4j\", \"beansAreGood_5998_WithTacos\"))"
   ]
  },
  {
   "cell_type": "code",
   "execution_count": 35,
   "metadata": {},
   "outputs": [],
   "source": [
    "def make_disease_nodes(tx): # Create the nodes that are the categories for the heart diseases\n",
    "    tx.run(\"\"\"\n",
    "    MERGE (:Category {name: 'IHD'})\n",
    "    MERGE (:Category {name: 'CM'})\n",
    "    MERGE (:Category {name: 'ARR'})\n",
    "    MERGE (:Category {name: 'VD'})\n",
    "    MERGE (:Category {name: 'CHD'})\n",
    "    MERGE (:Category {name: 'CCD'})\n",
    "    MERGE (:Category {name: 'VOO'})\n",
    "    MERGE (:Category {name: 'OTH'})\n",
    "    \"\"\")"
   ]
  },
  {
   "cell_type": "code",
   "execution_count": 36,
   "metadata": {},
   "outputs": [],
   "source": [
    "def unique_disease_cats(tx): # Ensure that the disease category nodes are all unqiue\n",
    "    tx.run(\"\"\"\n",
    "    CREATE CONSTRAINT unique_diseases ON (c:Category) ASSERT c.name IS UNIQUE\n",
    "    \"\"\")"
   ]
  },
  {
   "cell_type": "code",
   "execution_count": 37,
   "metadata": {},
   "outputs": [],
   "source": [
    "def create_proteins(tx): # Create the protein nodes\n",
    "    tx.run(\"\"\"\n",
    "    LOAD CSV WITH HEADERS FROM 'file:///caseolap.csv' AS row\n",
    "    WITH row WHERE row.protein IS NOT NULL\n",
    "    MERGE (p:Protein {id: row.protein})\n",
    "    \"\"\")"
   ]
  },
  {
   "cell_type": "code",
   "execution_count": 38,
   "metadata": {},
   "outputs": [],
   "source": [
    "def protein_IHD_relationship(tx): # Create the protein-IHD relationships\n",
    "    tx.run(\"\"\"\n",
    "    LOAD CSV WITH HEADERS FROM 'file:///caseolap.csv' AS row\n",
    "    WITH row WHERE row.protein IS NOT NULL\n",
    "    MATCH (p:Protein {id: row.protein}), (c:Category {name:'IHD'})\n",
    "    MERGE (p)-[:Has_CaseOLAP_Association {score: row.IHD}]->(c)\n",
    "    \"\"\")"
   ]
  },
  {
   "cell_type": "code",
   "execution_count": 40,
   "metadata": {},
   "outputs": [],
   "source": [
    "def protein_CM_relationship(tx): # Create the protein-CM relationships\n",
    "    tx.run(\"\"\"\n",
    "    LOAD CSV WITH HEADERS FROM 'file:///caseolap.csv' AS row\n",
    "    WITH row WHERE row.protein IS NOT NULL\n",
    "    MATCH (p:Protein {id: row.protein}), (c:Category {name:'CM'})\n",
    "    MERGE (p)-[:Has_CaseOLAP_Association {score: row.CM}]->(c)\n",
    "    \"\"\")"
   ]
  },
  {
   "cell_type": "code",
   "execution_count": 42,
   "metadata": {},
   "outputs": [],
   "source": [
    "def protein_ARR_relationship(tx): # Create the protein-ARR relationships\n",
    "    tx.run(\"\"\"\n",
    "    LOAD CSV WITH HEADERS FROM 'file:///caseolap.csv' AS row\n",
    "    WITH row WHERE row.protein IS NOT NULL\n",
    "    MATCH (p:Protein {id: row.protein}), (c:Category {name:'ARR'})\n",
    "    MERGE (p)-[:Has_CaseOLAP_Association {score: row.ARR}]->(c)\n",
    "    \"\"\")"
   ]
  },
  {
   "cell_type": "code",
   "execution_count": 44,
   "metadata": {},
   "outputs": [],
   "source": [
    "def protein_VD_relationship(tx): # Create the protein-VD relationships\n",
    "    tx.run(\"\"\"\n",
    "    LOAD CSV WITH HEADERS FROM 'file:///caseolap.csv' AS row\n",
    "    WITH row WHERE row.protein IS NOT NULL\n",
    "    MATCH (p:Protein {id: row.protein}), (c:Category {name:'VD'})\n",
    "    MERGE (p)-[:Has_CaseOLAP_Association {score: row.VD}]->(c)\n",
    "    \"\"\")"
   ]
  },
  {
   "cell_type": "code",
   "execution_count": 45,
   "metadata": {},
   "outputs": [],
   "source": [
    "def protein_CHD_relationship(tx): # Create the protein-CHD relationships\n",
    "    tx.run(\"\"\"\n",
    "    LOAD CSV WITH HEADERS FROM 'file:///caseolap.csv' AS row\n",
    "    WITH row WHERE row.protein IS NOT NULL\n",
    "    MATCH (p:Protein {id: row.protein}), (c:Category {name:'CHD'})\n",
    "    MERGE (p)-[:Has_CaseOLAP_Association {score: row.CHD}]->(c)\n",
    "    \"\"\")"
   ]
  },
  {
   "cell_type": "code",
   "execution_count": 46,
   "metadata": {},
   "outputs": [],
   "source": [
    "def protein_CCD_relationship(tx): # Create the protein-CCD relationships\n",
    "    tx.run(\"\"\"\n",
    "    LOAD CSV WITH HEADERS FROM 'file:///caseolap.csv' AS row\n",
    "    WITH row WHERE row.protein IS NOT NULL\n",
    "    MATCH (p:Protein {id: row.protein}), (c:Category {name:'CCD'})\n",
    "    MERGE (p)-[:Has_CaseOLAP_Association {score: row.CCD}]->(c)\n",
    "    \"\"\")"
   ]
  },
  {
   "cell_type": "code",
   "execution_count": 47,
   "metadata": {},
   "outputs": [],
   "source": [
    "def protein_VOO_relationship(tx): # Create the protein-VOO relationships\n",
    "    tx.run(\"\"\"\n",
    "    LOAD CSV WITH HEADERS FROM 'file:///caseolap.csv' AS row\n",
    "    WITH row WHERE row.protein IS NOT NULL\n",
    "    MATCH (p:Protein {id: row.protein}), (c:Category {name:'VOO'})\n",
    "    MERGE (p)-[:Has_CaseOLAP_Association {score: row.VOO}]->(c)\n",
    "    \"\"\")"
   ]
  },
  {
   "cell_type": "code",
   "execution_count": 48,
   "metadata": {},
   "outputs": [],
   "source": [
    "def protein_OTH_relationship(tx): # Create the protein-OTH relationships\n",
    "    tx.run(\"\"\"\n",
    "    LOAD CSV WITH HEADERS FROM 'file:///caseolap.csv' AS row\n",
    "    WITH row WHERE row.protein IS NOT NULL\n",
    "    MATCH (p:Protein {id: row.protein}), (c:Category {name:'OTH'})\n",
    "    MERGE (p)-[:Has_CaseOLAP_Association {score: row.OTH}]->(c)\n",
    "    \"\"\")"
   ]
  },
  {
   "cell_type": "code",
   "execution_count": 49,
   "metadata": {},
   "outputs": [],
   "source": [
    "with driver.session() as session: # Call all functions to assemble the knowledge graph\n",
    "    session.write_transaction(make_disease_nodes)\n",
    "    session.write_transaction(unique_disease_cats)\n",
    "    session.write_transaction(create_proteins)\n",
    "    session.write_transaction(protein_IHD_relationship)\n",
    "    session.write_transaction(protein_CM_relationship)\n",
    "    session.write_transaction(protein_ARR_relationship)\n",
    "    session.write_transaction(protein_VD_relationship)\n",
    "    session.write_transaction(protein_CHD_relationship)\n",
    "    session.write_transaction(protein_CCD_relationship)\n",
    "    session.write_transaction(protein_VOO_relationship)\n",
    "    session.write_transaction(protein_OTH_relationship)"
   ]
  },
  {
   "cell_type": "code",
   "execution_count": null,
   "metadata": {},
   "outputs": [],
   "source": []
  }
 ],
 "metadata": {
  "kernelspec": {
   "display_name": "Python 3",
   "language": "python",
   "name": "python3"
  },
  "language_info": {
   "codemirror_mode": {
    "name": "ipython",
    "version": 3
   },
   "file_extension": ".py",
   "mimetype": "text/x-python",
   "name": "python",
   "nbconvert_exporter": "python",
   "pygments_lexer": "ipython3",
   "version": "3.8.3"
  }
 },
 "nbformat": 4,
 "nbformat_minor": 4
}
